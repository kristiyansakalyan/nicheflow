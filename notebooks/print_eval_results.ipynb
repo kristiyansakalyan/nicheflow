{
 "cells": [
  {
   "cell_type": "code",
   "execution_count": null,
   "id": "7fb83df9",
   "metadata": {},
   "outputs": [],
   "source": [
    "from pathlib import Path\n",
    "\n",
    "import pandas as pd\n",
    "\n",
    "eval_path = Path(\"../outputs/eval\")\n",
    "cols = [\"test/nn_class/f1\", \"test/psd/mean\", \"test/spd/mean\"]\n",
    "new_cols = {\n",
    "    \"test/nn_class/f1\": \"1NN-F1\",\n",
    "    \"test/psd/mean\": \"PSD\",\n",
    "    \"test/spd/mean\": \"SPD\",\n",
    "}\n",
    "multipliers = [1, 10**2, 10**2]\n",
    "\n",
    "df_list = []\n",
    "for csv_file in sorted(list(eval_path.iterdir())):\n",
    "    results = pd.read_csv(csv_file)\n",
    "    model, objective, dataset = csv_file.stem.split(\"_\")\n",
    "    temp_results = {}\n",
    "    for col, mul in zip(cols, multipliers, strict=True):\n",
    "        results[col] = results[col] * mul\n",
    "        result = f\"{results[col].mean().round(4)} ± {results[col].std().round(4)}\"\n",
    "        temp_results[new_cols[col]] = result\n",
    "\n",
    "    df_list.append({\"Dataset\": dataset, \"Model\": model, \"Objective\": objective, **temp_results})\n",
    "\n",
    "df = pd.DataFrame(df_list)"
   ]
  },
  {
   "cell_type": "code",
   "execution_count": null,
   "id": "5f576aec",
   "metadata": {},
   "outputs": [],
   "source": [
    "markdown_str = df.sort_values(by=[\"Dataset\", \"Model\", \"Objective\"]).to_markdown(index=False)\n",
    "print(markdown_str)"
   ]
  }
 ],
 "metadata": {
  "kernelspec": {
   "display_name": "nicheflow-py3.12",
   "language": "python",
   "name": "python3"
  },
  "language_info": {
   "codemirror_mode": {
    "name": "ipython",
    "version": 3
   },
   "file_extension": ".py",
   "mimetype": "text/x-python",
   "name": "python",
   "nbconvert_exporter": "python",
   "pygments_lexer": "ipython3",
   "version": "3.12.2"
  }
 },
 "nbformat": 4,
 "nbformat_minor": 5
}
