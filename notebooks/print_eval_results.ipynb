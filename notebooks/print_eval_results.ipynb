{
 "cells": [
  {
   "cell_type": "code",
   "execution_count": null,
   "id": "6a066402",
   "metadata": {},
   "outputs": [],
   "source": [
    "from pathlib import Path\n",
    "\n",
    "import pandas as pd\n",
    "from IPython.display import Markdown, display"
   ]
  },
  {
   "cell_type": "code",
   "execution_count": null,
   "id": "5c6c6c61",
   "metadata": {},
   "outputs": [],
   "source": [
    "COLS = [\"test/nn_class/f1\", \"test/psd/mean\", \"test/spd/mean\"]\n",
    "NEW_COLS = {\n",
    "    \"test/nn_class/f1\": \"1NN-F1\",\n",
    "    \"test/psd/mean\": \"PSD\",\n",
    "    \"test/spd/mean\": \"SPD\",\n",
    "}\n",
    "MULTIPLIERS = [1, 10**2, 10**2]\n",
    "\n",
    "\n",
    "def process_csv_file(csv_file: Path):\n",
    "    results = pd.read_csv(csv_file)\n",
    "    out = {}\n",
    "    for col, mul in zip(COLS, MULTIPLIERS, strict=True):\n",
    "        values = results[col] * mul\n",
    "        mean_val = values.mean()\n",
    "        std_val = values.std()\n",
    "        metric_name = NEW_COLS[col]\n",
    "        out[metric_name] = f\"{mean_val:.3f} ± {std_val:.4f}\"\n",
    "        out[f\"{metric_name}_raw\"] = mean_val\n",
    "    return out\n",
    "\n",
    "\n",
    "def bold_best_results(df: pd.DataFrame, metrics=(\"1NN-F1\", \"PSD\", \"SPD\"), maximize=(\"1NN-F1\",)):\n",
    "    for metric in metrics:\n",
    "        for dataset, group_idx in df.groupby(\"Dataset\").groups.items():\n",
    "            subset = df.loc[group_idx]\n",
    "            raw_col = f\"{metric}_raw\"\n",
    "            if metric in maximize:\n",
    "                best_idx = subset[raw_col].idxmax()\n",
    "            else:\n",
    "                best_idx = subset[raw_col].idxmin()\n",
    "\n",
    "            # Bold the corresponding makrdown string\n",
    "            df.at[best_idx, metric] = f\"**{df.at[best_idx, metric]}**\"\n",
    "    return df"
   ]
  },
  {
   "cell_type": "markdown",
   "id": "2b7d66e5",
   "metadata": {},
   "source": [
    "# Main Results"
   ]
  },
  {
   "cell_type": "code",
   "execution_count": null,
   "id": "7fb83df9",
   "metadata": {},
   "outputs": [],
   "source": [
    "def load_main_eval(eval_path: Path) -> pd.DataFrame:\n",
    "    df_list = []\n",
    "    for csv_file in sorted(eval_path.iterdir()):\n",
    "        model, objective, dataset = csv_file.stem.split(\"_\")\n",
    "        temp_results = process_csv_file(csv_file)\n",
    "        df_list.append({\"Dataset\": dataset, \"Model\": model, \"Objective\": objective, **temp_results})\n",
    "    return pd.DataFrame(df_list)\n",
    "\n",
    "main_results_path = Path(\"../outputs/eval_main\")\n",
    "main_eval_df = load_main_eval(main_results_path)\n",
    "main_eval_df = bold_best_results(main_eval_df)"
   ]
  },
  {
   "cell_type": "code",
   "execution_count": null,
   "id": "47bd5bea",
   "metadata": {},
   "outputs": [],
   "source": [
    "for ds in [\"MED\", \"ABD\", \"MBA\"]:\n",
    "    print(ds)\n",
    "    markdown_str = (\n",
    "        main_eval_df[main_eval_df[\"Dataset\"] == ds][[\"Model\", \"Objective\", \"1NN-F1\", \"PSD\", \"SPD\"]]\n",
    "        .sort_values(by=[\"Model\", \"Objective\"])\n",
    "        .to_markdown(index=False)\n",
    "    )\n",
    "    display(Markdown(markdown_str))"
   ]
  },
  {
   "cell_type": "markdown",
   "id": "d08ab503",
   "metadata": {},
   "source": [
    "# Ablations"
   ]
  },
  {
   "cell_type": "markdown",
   "id": "ddc1229e",
   "metadata": {},
   "source": [
    "### $K$ Regions Ablation Study "
   ]
  },
  {
   "cell_type": "code",
   "execution_count": null,
   "id": "ac1f88ce",
   "metadata": {},
   "outputs": [],
   "source": [
    "def load_kregion_ablation(eval_path: Path, base_path: Path) -> pd.DataFrame:\n",
    "    df_list = []\n",
    "    for csv_file in sorted(eval_path.iterdir()):\n",
    "        model, objective, dataset, kregions = csv_file.stem.split(\"_\")\n",
    "        kregions = int(kregions.replace(\"KRegions=\", \"\"))\n",
    "        temp_results = process_csv_file(csv_file)\n",
    "        df_list.append({\"Dataset\": dataset, \"K\": kregions, **temp_results})\n",
    "\n",
    "    for csv_file in sorted(base_path.iterdir()):\n",
    "        if \"NicheFlow_GLVFM\" not in csv_file.stem:\n",
    "            continue\n",
    "        _, _, dataset = csv_file.stem.split(\"_\")\n",
    "        temp_results = process_csv_file(csv_file)\n",
    "        df_list.append({\"Dataset\": dataset, \"K\": 64, **temp_results})\n",
    "\n",
    "    return pd.DataFrame(df_list)\n",
    "\n",
    "\n",
    "kregions_results_path = Path(\"../outputs/eval_kregion_ablations\")\n",
    "kregion_df = load_kregion_ablation(kregions_results_path, main_results_path)\n",
    "kregion_df = bold_best_results(kregion_df)"
   ]
  },
  {
   "cell_type": "code",
   "execution_count": null,
   "id": "6cd8e058",
   "metadata": {},
   "outputs": [],
   "source": [
    "display(\n",
    "    Markdown(\n",
    "        kregion_df[[\"Dataset\", \"K\", *list(NEW_COLS.values())]]\n",
    "        .sort_values(by=[\"Dataset\", \"K\"])\n",
    "        .to_markdown(index=False)\n",
    "    )\n",
    ")"
   ]
  },
  {
   "cell_type": "markdown",
   "id": "843353ec",
   "metadata": {},
   "source": [
    "## $\\lambda$ OT Ablations"
   ]
  },
  {
   "cell_type": "code",
   "execution_count": null,
   "id": "a85fb9be",
   "metadata": {},
   "outputs": [],
   "source": [
    "def load_lambda_ablation(eval_path: Path, base_path: Path) -> pd.DataFrame:\n",
    "    df_list = []\n",
    "    for csv_file in sorted(eval_path.iterdir()):\n",
    "        model, objective, dataset, ot_lambda = csv_file.stem.split(\"_\")\n",
    "        ot_lambda = float(ot_lambda.replace(\"OTLambda=\", \"\"))\n",
    "        temp_results = process_csv_file(csv_file)\n",
    "        df_list.append(\n",
    "            {\n",
    "                \"Dataset\": dataset,\n",
    "                \"Model\": model,\n",
    "                \"Objective\": objective,\n",
    "                \"Lambda\": ot_lambda,\n",
    "                **temp_results,\n",
    "            }\n",
    "        )\n",
    "\n",
    "    for csv_file in sorted(base_path.iterdir()):\n",
    "        if not (\"NicheFlow\" in csv_file.stem or \"RPCFlow\" in csv_file.stem):\n",
    "            continue\n",
    "        model, objective, dataset = csv_file.stem.split(\"_\")\n",
    "        temp_results = process_csv_file(csv_file)\n",
    "        df_list.append(\n",
    "            {\n",
    "                \"Dataset\": dataset,\n",
    "                \"Model\": model,\n",
    "                \"Objective\": objective,\n",
    "                \"Lambda\": 0.1,\n",
    "                **temp_results,\n",
    "            }\n",
    "        )\n",
    "\n",
    "    return pd.DataFrame(df_list).sort_values(by=[\"Model\", \"Objective\", \"Lambda\"])\n",
    "\n",
    "\n",
    "ot_results_path = Path(\"../outputs/eval_ot_ablations\")\n",
    "lambda_df = load_lambda_ablation(ot_results_path, main_results_path)\n",
    "lambda_df = bold_best_results(lambda_df)"
   ]
  },
  {
   "cell_type": "code",
   "execution_count": null,
   "id": "e380c2cc",
   "metadata": {},
   "outputs": [],
   "source": [
    "for ds in [\"MED\", \"ABD\", \"MBA\"]:\n",
    "    print(ds)\n",
    "    markdown_str = (\n",
    "        lambda_df[lambda_df[\"Dataset\"] == ds][\n",
    "            [\"Model\", \"Objective\", \"Lambda\", *list(NEW_COLS.values())]\n",
    "        ]\n",
    "        .sort_values(by=[\"Model\", \"Objective\", \"Lambda\"])\n",
    "        .to_markdown(index=False)\n",
    "    )\n",
    "    display(Markdown(markdown_str))"
   ]
  }
 ],
 "metadata": {
  "kernelspec": {
   "display_name": "nicheflow-py3.12",
   "language": "python",
   "name": "python3"
  },
  "language_info": {
   "codemirror_mode": {
    "name": "ipython",
    "version": 3
   },
   "file_extension": ".py",
   "mimetype": "text/x-python",
   "name": "python",
   "nbconvert_exporter": "python",
   "pygments_lexer": "ipython3",
   "version": "3.12.2"
  }
 },
 "nbformat": 4,
 "nbformat_minor": 5
}
